{
 "cells": [
  {
   "cell_type": "markdown",
   "id": "ebadc42c",
   "metadata": {
    "slideshow": {
     "slide_type": "slide"
    }
   },
   "source": [
    "<h1> Energy Analyzer </h1>\n",
    "\n",
    "<h3> Francesco Cristoforo Conti, Gabriele Sanguedolce </h3>\n",
    "\n",
    "A.A. 2021/2022\n",
    "\n",
    "<a href=\"https://www.docker.com/\">Energy Analyzer</a>\n",
    "\n",
    "\n",
    "\n",
    "\n",
    "\n",
    "\n",
    "\n",
    "\n",
    "\n",
    "\n",
    "\n",
    "\n",
    "\n",
    "\n"
   ]
  },
  {
   "cell_type": "markdown",
   "id": "d1974e56",
   "metadata": {
    "slideshow": {
     "slide_type": "slide"
    }
   },
   "source": [
    "<h3>Introduzione</h3>\n",
    "\n",
    "Lo scopo del seguente progetto è quello di acquisire dati, inerenti le produzioni energetiche e le emissioni di Co2 da parte dei principali paesi del continente europeo, da una sorgente real-time simulata, elaborare tali dati ottenendo delle previsioni su specifici valori ed una serie di analisi statistiche per poi visualizzare il tutto su una dashboard interattiva di Kibana."
   ]
  },
  {
   "cell_type": "markdown",
   "id": "cdeb9a1b",
   "metadata": {
    "slideshow": {
     "slide_type": "slide"
    }
   },
   "source": [
    "<h3>Pipeline</h3>\n",
    "\n",
    "<img src=\"images/pipeline.png\" width=\"800px\">\n"
   ]
  },
  {
   "cell_type": "markdown",
   "id": "c67f643f",
   "metadata": {
    "slideshow": {
     "slide_type": "slide"
    }
   },
   "source": [
    "<br>\n",
    "<h3><img src=\"images/electricitymap.png\" width=\"20px\" align=\"left\">  &nbsp; Dataset locale  </h3>\n",
    "\n",
    "\n",
    "Per simulare una sorgente dati in real-time, sono stati raccolti venti giorni di dati dal sito <a href=\"https://app.electricitymaps.com/map\">Electricity Map</a>.\n",
    "Dal momento che per alcune nazioni i dati non erano disponibili, si è optato per acquisire dati soltanto dalle seguenti nazioni: ES, PT, FR, IT, CH, AT, SI, HR, ME, GR, BE, NL, DE, GB, IE, IS, DK, NO, SE, FI, RU, PL, EE, LV, LT, CZ, SK, HU, RS, BG, RO, TR, GE.\n",
    "I dati trattati, come detto in precedenza, riguardano la produzione di energia dalle diverse fonti energetiche e la quantità di Co2 (gCO₂eq/kWh) emessa, un esempio è il seguente:"
   ]
  },
  {
   "cell_type": "markdown",
   "id": "56be4c94",
   "metadata": {
    "slideshow": {
     "slide_type": "slide"
    }
   },
   "source": [
    "``` json\n",
    "{\n",
    "    \"_isFinestGranularity\": true,\n",
    "    \"co2intensity\": 266.89,\n",
    "    \"countryCode\": \"DE\",\n",
    "    \"maxProduction\": 21428.75,\n",
    "    \"price\": {\n",
    "        \"currency\": \"EUR\",\n",
    "        \"value\": 201.99\n",
    "    },\n",
    "    \"production\": {\n",
    "        \"biomass\": 4710.75,\n",
    "        \"coal\": 17383.5,\n",
    "        \"gas\": 3639.5,\n",
    "        \"geothermal\": 21.0,\n",
    "        \"hydro\": 1768.5,\n",
    "        \"nuclear\": 3996.5,\n",
    "        \"oil\": 8.0,\n",
    "        \"solar\": 13485.0,\n",
    "        \"unknown\": 346.0,\n",
    "        \"wind\": 21428.75\n",
    "    },\n",
    "    \"stateDatetime\": \"2022-07-07T10:00:00Z\",\n",
    "    \"totalProduction\": 66787.5\n",
    "}\n",
    "```"
   ]
  },
  {
   "cell_type": "markdown",
   "id": "40ac6df3",
   "metadata": {
    "slideshow": {
     "slide_type": "slide"
    }
   },
   "source": [
    "<h3><img src=\"images/logstash.png\" width=\"18px\" align=\"left\">  &nbsp; Logstash  </h3>\n",
    "\n",
    "Con Logstash vengono prelevati i dati, tramite il plug-in \"http\", che effettua richieste al server flask ogni secondo, in particolare vi sono due container Logstash per simulare più sorgenti dati e per rendere l'invio di dati più veloce.<br>\n",
    "I dati vengono poi inviati ad un cluster Kafka, per proseguire il loro viaggio lungo tutta la pipeline."
   ]
  },
  {
   "cell_type": "markdown",
   "id": "a6f97e33",
   "metadata": {
    "slideshow": {
     "slide_type": "slide"
    }
   },
   "source": [
    "<h3><img src=\"images/kafka.png\" width=\"18px\" align=\"left\">  &nbsp; Zookeeper + Kafka  </h3>\n",
    "\n",
    "Zookeeper è un software che funge da servizio centralizzato e viene utilizzato per mantenere i dati di denominazione e configurazione e per fornire una sincronizzazione flessibile e robusta all'interno dei sistemi distribuiti. <br>\n",
    "Zookeeper tiene traccia dello stato dei nodi del cluster Kafka e tiene anche traccia degli argomenti Kafka, delle partizioni, ecc. <br>\n",
    "Kafka, invece, è una piattaforma open source di stream processing, il progetto mira a creare una piattaforma a bassa latenza ed alta velocità per la gestione di dati in tempo reale.\n",
    "Con Kafka i dati vengono passati ad un Topic, nel quale verranno conservati fin quando non saranno consumati da un processo spark opportunamente collegato."
   ]
  },
  {
   "cell_type": "markdown",
   "id": "9d9a1458",
   "metadata": {
    "slideshow": {
     "slide_type": "slide"
    }
   },
   "source": [
    "<h3><img src=\"images/spark.png\" width=\"110px\" align=\"left\"> &nbsp; </h3>\n",
    "<br>\n",
    "<br>\n",
    "\n",
    "\n",
    "Apache Spark è un framework di elaborazione parallela open source che supporta l'elaborazione in memoria per migliorare le prestazioni delle applicazioni che analizzano Big Data. <br>\n",
    "Per l'allenamento del modello è stata utilizzata la libreria \"pyspark\" ed in particolare la funzione \"LinearRegression\", ciò per effettuare una previsione sul prezzo dell'energia nella fascia oraria successiva a quella del dato corrente.<br>\n",
    "A questo punto, con Spark Streaming, si elaborano i dati in stream applicando il modello ed effettuando una predizione sul dato, infine il risultato viene inviato ad Elastic Search."
   ]
  },
  {
   "cell_type": "markdown",
   "id": "d5561c29",
   "metadata": {
    "slideshow": {
     "slide_type": "slide"
    }
   },
   "source": [
    "<img src=\"images/candoit.jpeg\" width=\"600px\">"
   ]
  },
  {
   "cell_type": "markdown",
   "id": "2752a13b",
   "metadata": {
    "slideshow": {
     "slide_type": "slide"
    }
   },
   "source": [
    "\n",
    "<h3><img src=\"images/elastic.png\" width=\"18px\" align=\"left\">  &nbsp; Elasticsearch  </h3>\n",
    "\n",
    "Elasticsearch è un motore di ricerca e analisi distribuito per tutti i tipi di dati, inclusi testuali, numerici, geospaziali, strutturati e non strutturati, grazie ad esso è possibile memorizzare i dati elaborati in tempo reale ed inviarli infine a Kibana per le varie visualizzazioni."
   ]
  },
  {
   "cell_type": "markdown",
   "id": "16b1c23f",
   "metadata": {
    "slideshow": {
     "slide_type": "slide"
    }
   },
   "source": [
    "\n",
    "\n",
    "\n",
    "```\n",
    "{\n",
    "  \"name\" : \"elasticsearch01\",\n",
    "  \"cluster_name\" : \"docker-cluster\",\n",
    "  \"cluster_uuid\" : \"whxyytSiQiuoe-iILAcLfQ\",\n",
    "  \"version\" : {\n",
    "    \"number\" : \"8.2.2\",\n",
    "    \"build_flavor\" : \"default\",\n",
    "    \"build_type\" : \"docker\",\n",
    "    \"build_hash\" : \"9876968ef3c745186b94fdabd4483e01499224ef\",\n",
    "    \"build_date\" : \"2022-05-25T15:47:06.259735307Z\",\n",
    "    \"build_snapshot\" : false,\n",
    "    \"lucene_version\" : \"9.1.0\",\n",
    "    \"minimum_wire_compatibility_version\" : \"7.17.0\",\n",
    "    \"minimum_index_compatibility_version\" : \"7.0.0\"\n",
    "  },\n",
    "  \"tagline\" : \"You Know, for Search\"\n",
    "}\n",
    "```\n"
   ]
  },
  {
   "cell_type": "markdown",
   "id": "96f212fb",
   "metadata": {
    "slideshow": {
     "slide_type": "slide"
    }
   },
   "source": [
    "\n",
    "\n",
    "<h3><img src=\"images/kibana.png\" width=\"110px\" align=\"left\">  </h3>\n",
    "<br>\n",
    "\n",
    "Kibana è una UI utilizzata per visualizzare ed analizzare i dati di Elasticsearch. <br>\n",
    "Di seguito vengono riportati alcuni grafici mostrati nella dashboard. <br>"
   ]
  },
  {
   "cell_type": "markdown",
   "id": "b5b62afd",
   "metadata": {
    "slideshow": {
     "slide_type": "slide"
    }
   },
   "source": [
    "\n",
    "\n",
    "<h3><img src=\"images/documents_for_country.png\" width=\"900px\" align=\"left\">  </h3>\n",
    "<br>\n",
    "<br>\n"
   ]
  },
  {
   "cell_type": "markdown",
   "id": "cffcb14d",
   "metadata": {
    "slideshow": {
     "slide_type": "slide"
    }
   },
   "source": [
    "\n",
    "<h3><img src=\"images/price_prediction.png\" width=\"900px\" align=\"left\">  </h3>\n",
    "\n",
    "<br>"
   ]
  },
  {
   "cell_type": "markdown",
   "id": "ec0a74e3",
   "metadata": {
    "slideshow": {
     "slide_type": "slide"
    }
   },
   "source": [
    "\n",
    "\n",
    "<h3><img src=\"images/expensive.png\" width=\"900px\" align=\"left\">  </h3>\n",
    "\n",
    "<br>"
   ]
  },
  {
   "cell_type": "markdown",
   "id": "768acb57",
   "metadata": {
    "slideshow": {
     "slide_type": "slide"
    }
   },
   "source": [
    "\n",
    "\n",
    "<h3><img src=\"images/nuclear.png\" width=\"900px\" align=\"left\">  </h3>\n",
    "\n",
    "\n",
    "\n",
    "\n",
    "\n"
   ]
  }
 ],
 "metadata": {
  "celltoolbar": "Slideshow",
  "kernelspec": {
   "display_name": "Python 3",
   "language": "python",
   "name": "python3"
  },
  "language_info": {
   "codemirror_mode": {
    "name": "ipython",
    "version": 3
   },
   "file_extension": ".py",
   "mimetype": "text/x-python",
   "name": "python",
   "nbconvert_exporter": "python",
   "pygments_lexer": "ipython3",
   "version": "3.8.8"
  }
 },
 "nbformat": 4,
 "nbformat_minor": 5
}
